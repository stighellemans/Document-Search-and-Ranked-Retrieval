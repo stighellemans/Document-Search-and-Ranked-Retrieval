{
 "cells": [
  {
   "cell_type": "code",
   "execution_count": 1,
   "metadata": {},
   "outputs": [],
   "source": [
    "from src.preprocessing import read, tokenize\n",
    "from src.helpers import tokens_to_term_freqs\n",
    "from src.database import Database"
   ]
  },
  {
   "cell_type": "code",
   "execution_count": 2,
   "metadata": {},
   "outputs": [
    {
     "name": "stdout",
     "output_type": "stream",
     "text": [
      "['hey', 'hello', 'how', 'are', 'you', 'hello', 'hello']\n",
      "['what', 'is', 'your', 'name']\n",
      "['hey', 'how', 'are', 'you', 'doing']\n"
     ]
    }
   ],
   "source": [
    "test_db_tokens = {\n",
    "    \"doc1\": [\"hey\", \"hello\", \"how\", \"are\", \"you\", \"hello\", \"hello\"],\n",
    "    \"doc2\": [\"what\", \"is\", \"your\", \"name\"],\n",
    "    \"doc3\": [\"hey\", \"how\", \"are\", \"you\", \"doing\"]\n",
    "}\n",
    "\n",
    "test_db = {\n",
    "    \"doc1\": \"hey hello how are you hello hello\",\n",
    "    \"doc2\": \"what is your name\",\n",
    "    \"doc3\": \"hey how are you doing\"\n",
    "}\n",
    "\n",
    "\n",
    "def tokenize(text):\n",
    "    return text.split()\n",
    "\n",
    "for t in test_db.values():\n",
    "    print(tokenize(t))"
   ]
  },
  {
   "cell_type": "code",
   "execution_count": 3,
   "metadata": {},
   "outputs": [
    {
     "ename": "AttributeError",
     "evalue": "'TermInfo' object has no attribute 'term_freq_t'",
     "output_type": "error",
     "traceback": [
      "\u001b[0;31m---------------------------------------------------------------------------\u001b[0m",
      "\u001b[0;31mAttributeError\u001b[0m                            Traceback (most recent call last)",
      "Cell \u001b[0;32mIn[3], line 1\u001b[0m\n\u001b[0;32m----> 1\u001b[0m \u001b[43mDatabase\u001b[49m\u001b[43m(\u001b[49m\u001b[43mtokenize_fn\u001b[49m\u001b[38;5;241;43m=\u001b[39;49m\u001b[43mtokenize\u001b[49m\u001b[43m,\u001b[49m\u001b[43m \u001b[49m\u001b[43mdocs\u001b[49m\u001b[38;5;241;43m=\u001b[39;49m\u001b[43mtest_db\u001b[49m\u001b[43m)\u001b[49m\u001b[38;5;241m.\u001b[39mdb_size()\n",
      "File \u001b[0;32m~/Desktop/Information_Retrieval/assignments/assignment 1/Document-Search-and-Ranked-Retrieval/src/database.py:40\u001b[0m, in \u001b[0;36mDatabase.__init__\u001b[0;34m(self, tokenize_fn, docs)\u001b[0m\n\u001b[1;32m     37\u001b[0m \u001b[38;5;28mself\u001b[39m\u001b[38;5;241m.\u001b[39mdoc_ids \u001b[38;5;241m=\u001b[39m []\n\u001b[1;32m     39\u001b[0m \u001b[38;5;28;01mfor\u001b[39;00m doc_id, doc \u001b[38;5;129;01min\u001b[39;00m docs\u001b[38;5;241m.\u001b[39mitems():\n\u001b[0;32m---> 40\u001b[0m     \u001b[38;5;28;43mself\u001b[39;49m\u001b[38;5;241;43m.\u001b[39;49m\u001b[43mupdate\u001b[49m\u001b[43m(\u001b[49m\u001b[43mdoc_id\u001b[49m\u001b[43m,\u001b[49m\u001b[43m \u001b[49m\u001b[43mdoc\u001b[49m\u001b[43m)\u001b[49m\n",
      "File \u001b[0;32m~/Desktop/Information_Retrieval/assignments/assignment 1/Document-Search-and-Ranked-Retrieval/src/database.py:59\u001b[0m, in \u001b[0;36mDatabase.update\u001b[0;34m(self, doc_id, doc)\u001b[0m\n\u001b[1;32m     56\u001b[0m     \u001b[38;5;28mself\u001b[39m\u001b[38;5;241m.\u001b[39minverted_index[term] \u001b[38;5;241m=\u001b[39m TermInfo(\u001b[38;5;241m1\u001b[39m, [Posting(doc_id, freq_td)])\n\u001b[1;32m     57\u001b[0m \u001b[38;5;28;01melse\u001b[39;00m:\n\u001b[1;32m     58\u001b[0m     \u001b[38;5;66;03m# term is in one doc more\u001b[39;00m\n\u001b[0;32m---> 59\u001b[0m     \u001b[38;5;28mself\u001b[39m\u001b[38;5;241m.\u001b[39minverted_index[term]\u001b[38;5;241m.\u001b[39mterm_freq_t \u001b[38;5;241m+\u001b[39m\u001b[38;5;241m=\u001b[39m \u001b[38;5;241m1\u001b[39m\n\u001b[1;32m     60\u001b[0m     \u001b[38;5;66;03m# include new doc\u001b[39;00m\n\u001b[1;32m     61\u001b[0m     \u001b[38;5;28mself\u001b[39m\u001b[38;5;241m.\u001b[39minverted_index[term]\u001b[38;5;241m.\u001b[39mposting_list\u001b[38;5;241m.\u001b[39mappend(Posting(doc_id, freq_td))\n",
      "\u001b[0;31mAttributeError\u001b[0m: 'TermInfo' object has no attribute 'term_freq_t'"
     ]
    }
   ],
   "source": [
    "Database(tokenize_fn=tokenize, docs=test_db).db_size()"
   ]
  }
 ],
 "metadata": {
  "kernelspec": {
   "display_name": "base",
   "language": "python",
   "name": "python3"
  },
  "language_info": {
   "codemirror_mode": {
    "name": "ipython",
    "version": 3
   },
   "file_extension": ".py",
   "mimetype": "text/x-python",
   "name": "python",
   "nbconvert_exporter": "python",
   "pygments_lexer": "ipython3",
   "version": "3.10.12"
  }
 },
 "nbformat": 4,
 "nbformat_minor": 2
}
