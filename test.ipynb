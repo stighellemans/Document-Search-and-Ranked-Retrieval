{
 "cells": [
  {
   "cell_type": "code",
   "execution_count": 1,
   "metadata": {},
   "outputs": [],
   "source": [
    "from src.preprocessing import read, tokenize\n",
    "from src.helpers import tokens_to_term_freqs\n",
    "from src.database import Database"
   ]
  },
  {
   "cell_type": "code",
   "execution_count": 2,
   "metadata": {},
   "outputs": [
    {
     "name": "stdout",
     "output_type": "stream",
     "text": [
      "['hey', 'hello', 'how', 'are', 'you', 'hello', 'hello']\n",
      "['what', 'is', 'your', 'name']\n",
      "['hey', 'how', 'are', 'you', 'doing']\n"
     ]
    }
   ],
   "source": [
    "test_db_tokens = {\n",
    "    \"doc1\": [\"hey\", \"hello\", \"how\", \"are\", \"you\", \"hello\", \"hello\"],\n",
    "    \"doc2\": [\"what\", \"is\", \"your\", \"name\"],\n",
    "    \"doc3\": [\"hey\", \"how\", \"are\", \"you\", \"doing\"]\n",
    "}\n",
    "\n",
    "test_db = {\n",
    "    \"doc1\": \"hey hello how are you hello hello\",\n",
    "    \"doc2\": \"what is your name\",\n",
    "    \"doc3\": \"hey how are you doing\"\n",
    "}\n",
    "\n",
    "\n",
    "def tokenize(text):\n",
    "    return text.split()\n",
    "\n",
    "for t in test_db.values():\n",
    "    print(tokenize(t))"
   ]
  },
  {
   "cell_type": "code",
   "execution_count": 3,
   "metadata": {},
   "outputs": [
    {
     "data": {
      "text/plain": [
       "[('doc1', 0.9871715551505026), ('doc3', 0.5386043776164267)]"
      ]
     },
     "execution_count": 3,
     "metadata": {},
     "output_type": "execute_result"
    }
   ],
   "source": [
    "db = Database(tokenize_fn=tokenize, docs=test_db)\n",
    "\n",
    "\n",
    "db.query(\"hello how are you\")"
   ]
  }
 ],
 "metadata": {
  "kernelspec": {
   "display_name": "base",
   "language": "python",
   "name": "python3"
  },
  "language_info": {
   "codemirror_mode": {
    "name": "ipython",
    "version": 3
   },
   "file_extension": ".py",
   "mimetype": "text/x-python",
   "name": "python",
   "nbconvert_exporter": "python",
   "pygments_lexer": "ipython3",
   "version": "3.10.12"
  }
 },
 "nbformat": 4,
 "nbformat_minor": 2
}
